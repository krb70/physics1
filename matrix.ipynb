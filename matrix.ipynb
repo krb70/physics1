{
 "cells": [
  {
   "cell_type": "code",
   "execution_count": 1,
   "metadata": {},
   "outputs": [],
   "source": [
    "import numpy as np"
   ]
  },
  {
   "cell_type": "code",
   "execution_count": 2,
   "metadata": {},
   "outputs": [
    {
     "data": {
      "text/plain": [
       "array([[ 0.32313431,  0.64455256, -0.73286044,  0.2901372 ,  0.2508518 ,\n",
       "         0.98020025, -0.69934688, -0.75637302, -0.22617955, -0.25130503],\n",
       "       [ 0.64455256,  0.00855907,  0.0139842 ,  0.76610215, -0.4410244 ,\n",
       "         0.54096603,  0.60736078,  0.19839837,  0.99287672, -0.39556413],\n",
       "       [-0.73286044,  0.0139842 , -0.15177374, -0.43564161, -0.92454083,\n",
       "        -0.36486928, -0.64966102,  0.29355458, -0.51909357,  0.09277053],\n",
       "       [ 0.2901372 ,  0.76610215, -0.43564161,  0.39581192,  0.75844175,\n",
       "        -0.95791007,  0.61113479,  0.79503968, -0.76766575,  0.18473538],\n",
       "       [ 0.2508518 , -0.4410244 , -0.92454083,  0.75844175,  0.95054722,\n",
       "         0.85937992,  0.32619796, -0.84031358,  0.59809854, -0.70143691],\n",
       "       [ 0.98020025,  0.54096603, -0.36486928, -0.95791007,  0.85937992,\n",
       "        -0.45185344,  0.04691898,  0.82732458, -0.72529368, -0.62822936],\n",
       "       [-0.69934688,  0.60736078, -0.64966102,  0.61113479,  0.32619796,\n",
       "         0.04691898,  0.98327514, -0.34164415, -0.14524214,  0.36098294],\n",
       "       [-0.75637302,  0.19839837,  0.29355458,  0.79503968, -0.84031358,\n",
       "         0.82732458, -0.34164415, -0.57254821, -0.95806567,  0.66803656],\n",
       "       [-0.22617955,  0.99287672, -0.51909357, -0.76766575,  0.59809854,\n",
       "        -0.72529368, -0.14524214, -0.95806567,  0.60657206, -0.44442898],\n",
       "       [-0.25130503, -0.39556413,  0.09277053,  0.18473538, -0.70143691,\n",
       "        -0.62822936,  0.36098294,  0.66803656, -0.44442898, -0.19388223]])"
      ]
     },
     "execution_count": 2,
     "metadata": {},
     "output_type": "execute_result"
    }
   ],
   "source": [
    "sz = 10\n",
    "A = np.zeros((sz, sz))\n",
    "for i in range(sz):\n",
    "    A[i, i:] = np.random.uniform(-1, 1, sz-i)\n",
    "    A[(i+1):, i] = A[i, (i+1):]\n",
    "A"
   ]
  },
  {
   "cell_type": "code",
   "execution_count": 3,
   "metadata": {},
   "outputs": [
    {
     "data": {
      "text/plain": [
       "True"
      ]
     },
     "execution_count": 3,
     "metadata": {},
     "output_type": "execute_result"
    }
   ],
   "source": [
    "(A.T == A).all()"
   ]
  },
  {
   "cell_type": "code",
   "execution_count": 4,
   "metadata": {},
   "outputs": [],
   "source": [
    "A_inv = np.linalg.inv(A)"
   ]
  },
  {
   "cell_type": "code",
   "execution_count": 5,
   "metadata": {},
   "outputs": [
    {
     "data": {
      "text/plain": [
       "array([[ 1.,  0.,  0.,  0.,  0.,  0., -0.,  0.,  0., -0.],\n",
       "       [ 0.,  1., -0., -0., -0., -0.,  0., -0.,  0.,  0.],\n",
       "       [-0.,  0.,  1.,  0.,  0., -0., -0.,  0.,  0.,  0.],\n",
       "       [-0., -0., -0.,  1., -0.,  0.,  0., -0., -0., -0.],\n",
       "       [ 0.,  0., -0., -0.,  1.,  0., -0.,  0.,  0., -0.],\n",
       "       [ 0.,  0., -0., -0., -0.,  1.,  0.,  0., -0.,  0.],\n",
       "       [-0.,  0.,  0.,  0.,  0.,  0.,  1.,  0.,  0., -0.],\n",
       "       [-0.,  0.,  0.,  0.,  0.,  0.,  0.,  1.,  0., -0.],\n",
       "       [ 0., -0.,  0.,  0.,  0.,  0.,  0.,  0.,  1.,  0.],\n",
       "       [-0.,  0.,  0.,  0.,  0., -0., -0.,  0.,  0.,  1.]])"
      ]
     },
     "execution_count": 5,
     "metadata": {},
     "output_type": "execute_result"
    }
   ],
   "source": [
    "(A @ A_inv).round(8)"
   ]
  },
  {
   "cell_type": "code",
   "execution_count": 6,
   "metadata": {},
   "outputs": [],
   "source": [
    "evals, evecs = np.linalg.eig(A)"
   ]
  },
  {
   "cell_type": "code",
   "execution_count": 7,
   "metadata": {},
   "outputs": [
    {
     "data": {
      "text/plain": [
       "1.7986973843367142"
      ]
     },
     "execution_count": 7,
     "metadata": {},
     "output_type": "execute_result"
    }
   ],
   "source": [
    "np.product(evals)"
   ]
  },
  {
   "cell_type": "code",
   "execution_count": 8,
   "metadata": {},
   "outputs": [
    {
     "data": {
      "text/plain": [
       "1.7986973843367133"
      ]
     },
     "execution_count": 8,
     "metadata": {},
     "output_type": "execute_result"
    }
   ],
   "source": [
    "np.linalg.det(A)"
   ]
  },
  {
   "cell_type": "code",
   "execution_count": null,
   "metadata": {},
   "outputs": [],
   "source": []
  }
 ],
 "metadata": {
  "kernelspec": {
   "display_name": "Python 3",
   "language": "python",
   "name": "python3"
  },
  "language_info": {
   "codemirror_mode": {
    "name": "ipython",
    "version": 3
   },
   "file_extension": ".py",
   "mimetype": "text/x-python",
   "name": "python",
   "nbconvert_exporter": "python",
   "pygments_lexer": "ipython3",
   "version": "3.7.6"
  }
 },
 "nbformat": 4,
 "nbformat_minor": 2
}
